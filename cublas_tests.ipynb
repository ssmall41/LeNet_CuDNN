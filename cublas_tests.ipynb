{
 "cells": [
  {
   "cell_type": "code",
   "execution_count": null,
   "metadata": {
    "scrolled": true
   },
   "outputs": [],
   "source": [
    "import pycuda.autoinit\n",
    "import numpy as np\n",
    "from pycuda import gpuarray\n",
    "import pycuda.driver as drv\n",
    "import pyculib"
   ]
  },
  {
   "cell_type": "code",
   "execution_count": null,
   "metadata": {
    "scrolled": true
   },
   "outputs": [],
   "source": [
    "import numpy as np\n",
    "import time\n",
    "# import pycuda stuff\n",
    "import pycuda.driver as cuda\n",
    "import pycuda.autoinit\n",
    "from pycuda.compiler import SourceModule\n",
    "\n",
    "BLOCK_SIZE = 16\n",
    "\n",
    "n = 4\n",
    "ni = np.int32(n)\n",
    "\n",
    "# matrix A \n",
    "a = np.random.randn(n, n)*100\n",
    "a = a.astype(np.float32)\n",
    "\n",
    "# matrix B\n",
    "b = np.random.randn(n, n)*100\n",
    "b = b.astype(np.float32)\n",
    "\n",
    "# matrix B\n",
    "c = np.empty([n, n])\n",
    "c = c.astype(np.float32)\n",
    "\n",
    "# allocate memory on device\n",
    "a_gpu = cuda.mem_alloc(a.nbytes)\n",
    "b_gpu = cuda.mem_alloc(b.nbytes)\n",
    "c_gpu = cuda.mem_alloc(c.nbytes)\n",
    "\n",
    "# copy matrix to memory\n",
    "cuda.memcpy_htod(a_gpu, a)\n",
    "cuda.memcpy_htod(b_gpu, b)\n",
    "\n",
    "# compile kernel\n",
    "mod = SourceModule(open(\"test_kernels.cu\", \"r\").read())\n",
    "\n",
    "# get function\n",
    "matmul = mod.get_function(\"matmul\");\n",
    "\n",
    "\n",
    "# set grid size\n",
    "if n%BLOCK_SIZE != 0:\n",
    "    grid=(n//BLOCK_SIZE+1,n//BLOCK_SIZE+1,1)\n",
    "else:\n",
    "    grid=(n//BLOCK_SIZE,n//BLOCK_SIZE,1)\n",
    "\n",
    "# call gpu function\n",
    "start = time.time()\n",
    "matmul(ni, a_gpu, b_gpu, c_gpu, block=(BLOCK_SIZE,BLOCK_SIZE,1), grid=grid);\n",
    "end = time.time()\n",
    "print(\"Time: %.5f s\"%(end-start))\n",
    "\n",
    "# copy back the result\n",
    "cuda.memcpy_dtoh(c, c_gpu)\n",
    "\n",
    "print(np.linalg.norm(c - np.dot(a,b)))\n",
    "print(c)\n",
    "print(np.dot(a,b))\n",
    "print(c - np.dot(a,b))"
   ]
  },
  {
   "cell_type": "code",
   "execution_count": null,
   "metadata": {},
   "outputs": [],
   "source": [
    "import numpy as np\n",
    "import pycuda.driver as cuda\n",
    "import pycuda.autoinit\n",
    "from pycuda import gpuarray\n",
    "from pycuda.compiler import SourceModule\n",
    "\n",
    "n_x = 3\n",
    "n_y = 2\n",
    "a_np = np.zeros((n_x, n_y), dtype=np.float32)\n",
    "a_gpuarray = gpuarray.to_gpu(a_np)\n",
    "ni = np.int32(n_y)\n",
    "\n",
    "mod = SourceModule(open(\"test_kernels.cu\", \"r\").read())\n",
    "addone = mod.get_function(\"addone\")\n",
    "addone(ni, a_gpuarray, block=(n_x, n_y, 1))\n",
    "\n",
    "print(a_gpuarray.get())"
   ]
  },
  {
   "cell_type": "code",
   "execution_count": null,
   "metadata": {},
   "outputs": [],
   "source": [
    "import pycuda.autoinit\n",
    "import pycuda.gpuarray as gpuarray\n",
    "import numpy as np\n",
    "import skcuda.cublas as cublas\n",
    "\n",
    "order = \"F\"\n",
    "trans = \"n\"\n",
    "\n",
    "A = np.array(([1, 2, 3], [4, 5, 6]), order=order).astype(np.float64)\n",
    "B = np.array(([7, 8, 1, 5], [9, 10, 0, 9], [11, 12, 5, 5]), order=order).astype(np.float64)\n",
    "\n",
    "A_gpu = gpuarray.to_gpu(A)\n",
    "B_gpu = gpuarray.to_gpu(B)\n",
    "\n",
    "m, k = A_gpu.shape\n",
    "k, n = B_gpu.shape\n",
    "\n",
    "C_gpu = gpuarray.empty((m, n), np.float64)\n",
    "\n",
    "alpha = np.float64(1.0)\n",
    "beta  = np.float64(0.0)\n",
    "\n",
    "cublas_handle = cublas.cublasCreate()\n",
    "cublas.cublasDgemm(cublas_handle, trans, trans, m, n, k, alpha, A_gpu.gpudata, m, B_gpu.gpudata, k, beta, C_gpu.gpudata, m)\n",
    "cublas.cublasDestroy(cublas_handle)\n",
    "\n",
    "C_gpu = C_gpu.reshape(C_gpu.shape, order=order)\n",
    "\n",
    "print(np.dot(A, B))\n",
    "print(C_gpu)\n"
   ]
  },
  {
   "cell_type": "code",
   "execution_count": null,
   "metadata": {},
   "outputs": [],
   "source": []
  }
 ],
 "metadata": {
  "kernelspec": {
   "display_name": "Python 3",
   "language": "python",
   "name": "python3"
  },
  "language_info": {
   "codemirror_mode": {
    "name": "ipython",
    "version": 3
   },
   "file_extension": ".py",
   "mimetype": "text/x-python",
   "name": "python",
   "nbconvert_exporter": "python",
   "pygments_lexer": "ipython3",
   "version": "3.8.5"
  }
 },
 "nbformat": 4,
 "nbformat_minor": 4
}
